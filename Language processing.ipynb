{
 "cells": [
  {
   "cell_type": "code",
   "execution_count": 18,
   "id": "d1c0b6ff",
   "metadata": {},
   "outputs": [],
   "source": [
    "#Importing libraries\n",
    "\n",
    "import pandas as pd\n",
    "import matplotlib.pyplot as plt\n",
    "%matplotlib inline\n",
    "from wordcloud import WordCloud, STOPWORDS\n",
    "import docx"
   ]
  },
  {
   "cell_type": "code",
   "execution_count": 19,
   "id": "11dc3c8e",
   "metadata": {},
   "outputs": [
    {
     "name": "stdout",
     "output_type": "stream",
     "text": [
      "*\n"
     ]
    }
   ],
   "source": [
    "doc = docx.Document('C:\\\\Users\\\\Raimundo\\\\Videos\\\\Fala por entrevistado word.docx')\n",
    "text = \"\"\n",
    "\n",
    "for paragraph in doc.paragraphs:\n",
    "    text += paragraph.text + '\\n'\n",
    "\n",
    "print(text[1])\n"
   ]
  },
  {
   "cell_type": "code",
   "execution_count": 26,
   "id": "2c3aff34",
   "metadata": {},
   "outputs": [],
   "source": [
    "# Stopwords em português:\n",
    "\n",
    "import nltk\n",
    "#nltk.download('stopwords')\n",
    "\n",
    "# Get NLTK's Portuguese stopwords\n",
    "nltk_stopwords = nltk.corpus.stopwords.words('portuguese')\n",
    "\n",
    "# Define your custom stopwords\n",
    "custom_stopwords = [\n",
    "    \"sim\", \"ter\", \"pode\", \"acredito\", \"sempre\", \"falta\", \"parte\", \"toda\", \"muita\"\n",
    "]\n",
    "\n",
    "# Combine NLTK's stopwords and your custom stopwords\n",
    "stopwords = nltk_stopwords + custom_stopwords\n"
   ]
  },
  {
   "cell_type": "code",
   "execution_count": 27,
   "id": "e9093aac",
   "metadata": {},
   "outputs": [
    {
     "name": "stdout",
     "output_type": "stream",
     "text": [
      "<wordcloud.wordcloud.WordCloud object at 0x00000212F4CB0040>\n"
     ]
    }
   ],
   "source": [
    "\n",
    "\n",
    "\n",
    "# Define custom Portuguese stopwords\n",
    "#portuguese_stopwords = set([\n",
    "#    \"a\", \"o\", \"e\", \"é\", \"à\", \"á\", \"às\", \"àquele\", \"do\", \"que\", \"não\", \"de\", \"uma\", \"um\", \"em\",\n",
    "#    \"sim\", \"para\", \"seu\", \"cmo\", \"se\", \"ou\", \"ser\", \"no\", \"muito\", \"com\", \"as\", \"os\", \"da\", \"qual\"])\n",
    "\n",
    "# Use the predefined Portuguese stopwords set\n",
    "portuguese_stopwords = STOPWORDS\n",
    "\n",
    "# Create the Word Cloud with custom stopwords\n",
    "word_cloud = WordCloud(\n",
    "    collocations=False,\n",
    "    background_color='white',\n",
    "    width=800,\n",
    "    height=400,\n",
    "    stopwords=stopwords  # Use your custom stopwords set\n",
    ").generate(text)\n",
    "\n",
    "# Save the Word Cloud image\n",
    "word_cloud.to_file('word_cloud.png')\n",
    "\n",
    "print(word_cloud)"
   ]
  },
  {
   "cell_type": "code",
   "execution_count": null,
   "id": "228d4a7b",
   "metadata": {},
   "outputs": [],
   "source": []
  }
 ],
 "metadata": {
  "kernelspec": {
   "display_name": "Python 3",
   "language": "python",
   "name": "python3"
  },
  "language_info": {
   "codemirror_mode": {
    "name": "ipython",
    "version": 3
   },
   "file_extension": ".py",
   "mimetype": "text/x-python",
   "name": "python",
   "nbconvert_exporter": "python",
   "pygments_lexer": "ipython3",
   "version": "3.8.8"
  }
 },
 "nbformat": 4,
 "nbformat_minor": 5
}
